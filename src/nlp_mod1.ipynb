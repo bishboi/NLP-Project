{
  "nbformat": 4,
  "nbformat_minor": 0,
  "metadata": {
    "colab": {
      "name": "nlp_mod1.ipynb",
      "provenance": [],
      "collapsed_sections": []
    },
    "kernelspec": {
      "name": "python3",
      "display_name": "Python 3"
    },
    "language_info": {
      "name": "python"
    },
    "accelerator": "GPU"
  },
  "cells": [
    {
      "cell_type": "code",
      "metadata": {
        "colab": {
          "base_uri": "https://localhost:8080/"
        },
        "id": "klfVSCKALf1J",
        "outputId": "435fb81b-337f-4e09-f563-14d42cbec218"
      },
      "source": [
        "from google.colab import drive\n",
        "drive.mount('/content/drive')"
      ],
      "execution_count": 44,
      "outputs": [
        {
          "output_type": "stream",
          "text": [
            "Drive already mounted at /content/drive; to attempt to forcibly remount, call drive.mount(\"/content/drive\", force_remount=True).\n"
          ],
          "name": "stdout"
        }
      ]
    },
    {
      "cell_type": "code",
      "metadata": {
        "id": "pJwW4EcxMT2V"
      },
      "source": [
        "import tensorflow as tf\n",
        "from tensorflow import keras\n",
        "from tensorflow.keras import layers\n",
        "from tensorflow.keras.layers.experimental.preprocessing import TextVectorization\n",
        "import numpy as np\n",
        "import os\n",
        "import re\n",
        "import string\n",
        "import random\n",
        "import tensorflow_datasets as tfds\n",
        "import pickle\n",
        "from keras.layers.normalization import BatchNormalization"
      ],
      "execution_count": null,
      "outputs": []
    },
    {
      "cell_type": "code",
      "metadata": {
        "id": "UoyzT11TZIA0"
      },
      "source": [
        "from keras.preprocessing.text import Tokenizer\n",
        "from keras.utils import to_categorical\n",
        "from keras.models import Sequential\n",
        "from keras.layers import Dense\n",
        "from keras.layers import LSTM\n",
        "from keras.layers import Embedding"
      ],
      "execution_count": null,
      "outputs": []
    },
    {
      "cell_type": "code",
      "metadata": {
        "id": "sW7CpeTMADRq"
      },
      "source": [
        "train = tf.data.TextLineDataset(\"/content/drive/MyDrive/data/sentences_file.txt\")"
      ],
      "execution_count": null,
      "outputs": []
    },
    {
      "cell_type": "code",
      "metadata": {
        "id": "nBD_Guxrs5Rf"
      },
      "source": [
        "def custom_standard(input_string):\n",
        "    return tf.strings.lower(input_string)"
      ],
      "execution_count": null,
      "outputs": []
    },
    {
      "cell_type": "code",
      "metadata": {
        "id": "_4AVEdtsuPwc"
      },
      "source": [
        "maxlen=20 # max sequence length\n",
        "vectorize_layer = TextVectorization(\n",
        "    standardize=custom_standard,\n",
        "    max_tokens=None,\n",
        "    output_mode=\"int\",\n",
        "    output_sequence_length=maxlen + 1,\n",
        ")"
      ],
      "execution_count": null,
      "outputs": []
    },
    {
      "cell_type": "code",
      "metadata": {
        "id": "r16BoqURPEvh"
      },
      "source": [
        "vectorize_layer.adapt(train)"
      ],
      "execution_count": null,
      "outputs": []
    },
    {
      "cell_type": "code",
      "metadata": {
        "colab": {
          "base_uri": "https://localhost:8080/"
        },
        "id": "saJV856Kt0rL",
        "outputId": "9f4ad912-91e2-4af3-8893-72f937cc79ca"
      },
      "source": [
        "for i in train.take(2):\n",
        "  print(i.numpy().decode())\n",
        "# data is lowercased"
      ],
      "execution_count": null,
      "outputs": [
        {
          "output_type": "stream",
          "text": [
            "ye to hona hi tha .... kabhi kisi neta ko saja mili hi ... always clean chit .. \n",
            "hey frd . hw r u ? msg now \n"
          ],
          "name": "stdout"
        }
      ]
    },
    {
      "cell_type": "code",
      "metadata": {
        "id": "_3qur3U0Rtg_"
      },
      "source": [
        "vocab = vectorize_layer.get_vocabulary()\n",
        "vocab_size = len(vocab)"
      ],
      "execution_count": null,
      "outputs": []
    },
    {
      "cell_type": "code",
      "metadata": {
        "colab": {
          "base_uri": "https://localhost:8080/"
        },
        "id": "O1Dh5k3ktTbx",
        "outputId": "9a7ec9f4-2cac-4758-c182-c301d9a8c33d"
      },
      "source": [
        "print(vocab_size)"
      ],
      "execution_count": null,
      "outputs": [
        {
          "output_type": "stream",
          "text": [
            "28376\n"
          ],
          "name": "stdout"
        }
      ]
    },
    {
      "cell_type": "code",
      "metadata": {
        "id": "zN3eAklhTTMd"
      },
      "source": [
        "def prepare_dataset(text):\n",
        "    '''\n",
        "    text = [1,2,3,4,5] seq_len = 4\n",
        "    x = [1,2,3,4] y = [2,3,4,5]\n",
        "    '''\n",
        "    text = tf.expand_dims(text, -1)\n",
        "    tokenized_sentences = vectorize_layer(text)\n",
        "    x = tokenized_sentences[:, :-1]\n",
        "    y = tokenized_sentences[:, 1:]\n",
        "    return x, y"
      ],
      "execution_count": null,
      "outputs": []
    },
    {
      "cell_type": "code",
      "metadata": {
        "id": "5doJnm3cTXww"
      },
      "source": [
        "train_ds = train.map(prepare_dataset) # train_ds[0] = tuple(x[0],y[0])"
      ],
      "execution_count": null,
      "outputs": []
    },
    {
      "cell_type": "code",
      "metadata": {
        "colab": {
          "base_uri": "https://localhost:8080/"
        },
        "id": "-jFdUMNZH3e4",
        "outputId": "cf5df1b5-eed9-402b-fb78-6220f6287521"
      },
      "source": [
        "type(train_ds)"
      ],
      "execution_count": null,
      "outputs": [
        {
          "output_type": "execute_result",
          "data": {
            "text/plain": [
              "tensorflow.python.data.ops.dataset_ops.MapDataset"
            ]
          },
          "metadata": {
            "tags": []
          },
          "execution_count": 135
        }
      ]
    },
    {
      "cell_type": "code",
      "metadata": {
        "colab": {
          "base_uri": "https://localhost:8080/"
        },
        "id": "AEzohfySTCtq",
        "outputId": "d058dd22-ee07-48b8-f52f-a62c7f759ec9"
      },
      "source": [
        "# data is tokenised and ready for the model\n",
        "for i in train_ds.take(1):\n",
        "  print(i[0].numpy())\n",
        "  print(i[1].numpy())"
      ],
      "execution_count": null,
      "outputs": [
        {
          "output_type": "stream",
          "text": [
            "[[  18    4  193   19   48   28  216   87  221    5  780 1054   19   13\n",
            "   922 1641 3479   16    0    0]]\n",
            "[[   4  193   19   48   28  216   87  221    5  780 1054   19   13  922\n",
            "  1641 3479   16    0    0    0]]\n"
          ],
          "name": "stdout"
        }
      ]
    },
    {
      "cell_type": "code",
      "metadata": {
        "id": "-NVjlDFoZ_Z3"
      },
      "source": [
        "seq_length = 20\n",
        "embed_dim = 50\n",
        "lstm_cells = 50\n",
        "dense_cells = 100"
      ],
      "execution_count": null,
      "outputs": []
    },
    {
      "cell_type": "code",
      "metadata": {
        "id": "aijjVnLObdcj"
      },
      "source": [
        "def simple_naive():\n",
        "  model = Sequential()\n",
        "  model.add(Embedding(vocab_size,embed_dim, input_length=seq_length))\n",
        "  model.add(LSTM(lstm_cells, return_sequences=True))\n",
        "  model.add(Dense(vocab_size))\n",
        "  #loss_fn = tf.keras.losses.SparseCategoricalCrossentropy(from_logits=True)\n",
        "  model.compile(\"adam\",loss='sparse_categorical_crossentropy')\n",
        "  return model"
      ],
      "execution_count": null,
      "outputs": []
    },
    {
      "cell_type": "code",
      "metadata": {
        "id": "-PzqouhV3f4U"
      },
      "source": [
        "#simple naive\n",
        "class Custom_Saver_for_simple_naive(keras.callbacks.Callback):\n",
        "    def on_epoch_end(self, epoch, logs={}):\n",
        "      if(epoch%4 == 0):\n",
        "        self.model.save(\"/content/drive/MyDrive/naive_model/\"+str(epoch)+\"/model/\")\n",
        "        #self.model.save(\"/content/drive/MyDrive/naive_model/naive_simple_model_\"+str(epoch)+\".hd5\")"
      ],
      "execution_count": null,
      "outputs": []
    },
    {
      "cell_type": "code",
      "metadata": {
        "colab": {
          "base_uri": "https://localhost:8080/"
        },
        "id": "B03M86yEMvEe",
        "outputId": "32044c5c-7ec3-4681-dd0c-74e2a33e8ad7"
      },
      "source": [
        "naive_model = simple_naive()\n",
        "print(naive_model.summary())\n",
        "saver_simple = Custom_Saver_for_simple_naive()"
      ],
      "execution_count": null,
      "outputs": [
        {
          "output_type": "stream",
          "text": [
            "Model: \"sequential_15\"\n",
            "_________________________________________________________________\n",
            "Layer (type)                 Output Shape              Param #   \n",
            "=================================================================\n",
            "embedding_21 (Embedding)     (None, 20, 50)            1418800   \n",
            "_________________________________________________________________\n",
            "lstm_20 (LSTM)               (None, 20, 50)            20200     \n",
            "_________________________________________________________________\n",
            "dense_23 (Dense)             (None, 20, 28376)         1447176   \n",
            "=================================================================\n",
            "Total params: 2,886,176\n",
            "Trainable params: 2,886,176\n",
            "Non-trainable params: 0\n",
            "_________________________________________________________________\n",
            "None\n"
          ],
          "name": "stdout"
        }
      ]
    },
    {
      "cell_type": "code",
      "metadata": {
        "colab": {
          "base_uri": "https://localhost:8080/"
        },
        "id": "ncDwJAloD32v",
        "outputId": "452e1f07-4b35-4557-8a94-73fe7dbbb0af"
      },
      "source": [
        "print(type(train_ds))"
      ],
      "execution_count": null,
      "outputs": [
        {
          "output_type": "stream",
          "text": [
            "<class 'tensorflow.python.data.ops.dataset_ops.MapDataset'>\n"
          ],
          "name": "stdout"
        }
      ]
    },
    {
      "cell_type": "code",
      "metadata": {
        "colab": {
          "base_uri": "https://localhost:8080/"
        },
        "id": "pwmQCu0Mwkkp",
        "outputId": "e26776d6-93c4-41d2-e8b5-c5a80827504b"
      },
      "source": [
        "naive_model.fit(train_ds,epochs=21,callbacks=[saver_simple])"
      ],
      "execution_count": null,
      "outputs": [
        {
          "output_type": "stream",
          "text": [
            "Epoch 1/21\n",
            "16220/16220 [==============================] - 444s 27ms/step - loss: 7.6321\n"
          ],
          "name": "stdout"
        },
        {
          "output_type": "stream",
          "text": [
            "WARNING:absl:Found untraced functions such as lstm_cell_21_layer_call_fn, lstm_cell_21_layer_call_and_return_conditional_losses, lstm_cell_21_layer_call_fn, lstm_cell_21_layer_call_and_return_conditional_losses, lstm_cell_21_layer_call_and_return_conditional_losses while saving (showing 5 of 5). These functions will not be directly callable after loading.\n",
            "WARNING:absl:Found untraced functions such as lstm_cell_21_layer_call_fn, lstm_cell_21_layer_call_and_return_conditional_losses, lstm_cell_21_layer_call_fn, lstm_cell_21_layer_call_and_return_conditional_losses, lstm_cell_21_layer_call_and_return_conditional_losses while saving (showing 5 of 5). These functions will not be directly callable after loading.\n"
          ],
          "name": "stderr"
        },
        {
          "output_type": "stream",
          "text": [
            "INFO:tensorflow:Assets written to: /content/drive/MyDrive/naive_model/naive_simple_model_0/assets\n"
          ],
          "name": "stdout"
        },
        {
          "output_type": "stream",
          "text": [
            "INFO:tensorflow:Assets written to: /content/drive/MyDrive/naive_model/naive_simple_model_0/assets\n"
          ],
          "name": "stderr"
        },
        {
          "output_type": "stream",
          "text": [
            "Epoch 2/21\n",
            "16220/16220 [==============================] - 440s 27ms/step - loss: 7.6078\n",
            "Epoch 3/21\n",
            "16220/16220 [==============================] - 440s 27ms/step - loss: 7.6077\n",
            "Epoch 4/21\n",
            "16220/16220 [==============================] - 416s 26ms/step - loss: 7.6077\n",
            "Epoch 5/21\n",
            "16220/16220 [==============================] - 413s 25ms/step - loss: 7.6077\n"
          ],
          "name": "stdout"
        },
        {
          "output_type": "stream",
          "text": [
            "WARNING:absl:Found untraced functions such as lstm_cell_21_layer_call_fn, lstm_cell_21_layer_call_and_return_conditional_losses, lstm_cell_21_layer_call_fn, lstm_cell_21_layer_call_and_return_conditional_losses, lstm_cell_21_layer_call_and_return_conditional_losses while saving (showing 5 of 5). These functions will not be directly callable after loading.\n",
            "WARNING:absl:Found untraced functions such as lstm_cell_21_layer_call_fn, lstm_cell_21_layer_call_and_return_conditional_losses, lstm_cell_21_layer_call_fn, lstm_cell_21_layer_call_and_return_conditional_losses, lstm_cell_21_layer_call_and_return_conditional_losses while saving (showing 5 of 5). These functions will not be directly callable after loading.\n"
          ],
          "name": "stderr"
        },
        {
          "output_type": "stream",
          "text": [
            "INFO:tensorflow:Assets written to: /content/drive/MyDrive/naive_model/naive_simple_model_4/assets\n"
          ],
          "name": "stdout"
        },
        {
          "output_type": "stream",
          "text": [
            "INFO:tensorflow:Assets written to: /content/drive/MyDrive/naive_model/naive_simple_model_4/assets\n"
          ],
          "name": "stderr"
        },
        {
          "output_type": "stream",
          "text": [
            "Epoch 6/21\n",
            "16220/16220 [==============================] - 418s 26ms/step - loss: 7.6077\n",
            "Epoch 7/21\n",
            "16220/16220 [==============================] - 385s 24ms/step - loss: 7.6077\n",
            "Epoch 8/21\n",
            "16220/16220 [==============================] - 379s 23ms/step - loss: 7.6077\n",
            "Epoch 9/21\n",
            "16220/16220 [==============================] - 385s 24ms/step - loss: 7.6077\n"
          ],
          "name": "stdout"
        },
        {
          "output_type": "stream",
          "text": [
            "WARNING:absl:Found untraced functions such as lstm_cell_21_layer_call_fn, lstm_cell_21_layer_call_and_return_conditional_losses, lstm_cell_21_layer_call_fn, lstm_cell_21_layer_call_and_return_conditional_losses, lstm_cell_21_layer_call_and_return_conditional_losses while saving (showing 5 of 5). These functions will not be directly callable after loading.\n",
            "WARNING:absl:Found untraced functions such as lstm_cell_21_layer_call_fn, lstm_cell_21_layer_call_and_return_conditional_losses, lstm_cell_21_layer_call_fn, lstm_cell_21_layer_call_and_return_conditional_losses, lstm_cell_21_layer_call_and_return_conditional_losses while saving (showing 5 of 5). These functions will not be directly callable after loading.\n"
          ],
          "name": "stderr"
        },
        {
          "output_type": "stream",
          "text": [
            "INFO:tensorflow:Assets written to: /content/drive/MyDrive/naive_model/naive_simple_model_8/assets\n"
          ],
          "name": "stdout"
        },
        {
          "output_type": "stream",
          "text": [
            "INFO:tensorflow:Assets written to: /content/drive/MyDrive/naive_model/naive_simple_model_8/assets\n"
          ],
          "name": "stderr"
        },
        {
          "output_type": "stream",
          "text": [
            "Epoch 10/21\n",
            "16220/16220 [==============================] - 404s 25ms/step - loss: 7.6077\n",
            "Epoch 11/21\n",
            "16220/16220 [==============================] - 396s 24ms/step - loss: 7.6077\n",
            "Epoch 12/21\n",
            "16220/16220 [==============================] - 394s 24ms/step - loss: 7.6077\n",
            "Epoch 13/21\n",
            "16220/16220 [==============================] - 389s 24ms/step - loss: 7.6077\n"
          ],
          "name": "stdout"
        },
        {
          "output_type": "stream",
          "text": [
            "WARNING:absl:Found untraced functions such as lstm_cell_21_layer_call_fn, lstm_cell_21_layer_call_and_return_conditional_losses, lstm_cell_21_layer_call_fn, lstm_cell_21_layer_call_and_return_conditional_losses, lstm_cell_21_layer_call_and_return_conditional_losses while saving (showing 5 of 5). These functions will not be directly callable after loading.\n",
            "WARNING:absl:Found untraced functions such as lstm_cell_21_layer_call_fn, lstm_cell_21_layer_call_and_return_conditional_losses, lstm_cell_21_layer_call_fn, lstm_cell_21_layer_call_and_return_conditional_losses, lstm_cell_21_layer_call_and_return_conditional_losses while saving (showing 5 of 5). These functions will not be directly callable after loading.\n"
          ],
          "name": "stderr"
        },
        {
          "output_type": "stream",
          "text": [
            "INFO:tensorflow:Assets written to: /content/drive/MyDrive/naive_model/naive_simple_model_12/assets\n"
          ],
          "name": "stdout"
        },
        {
          "output_type": "stream",
          "text": [
            "INFO:tensorflow:Assets written to: /content/drive/MyDrive/naive_model/naive_simple_model_12/assets\n"
          ],
          "name": "stderr"
        },
        {
          "output_type": "stream",
          "text": [
            "Epoch 14/21\n",
            "16220/16220 [==============================] - 388s 24ms/step - loss: 7.6077\n",
            "Epoch 15/21\n",
            "16220/16220 [==============================] - 375s 23ms/step - loss: 7.6077\n",
            "Epoch 16/21\n",
            "16220/16220 [==============================] - 356s 22ms/step - loss: 7.6077\n",
            "Epoch 17/21\n",
            "16220/16220 [==============================] - 341s 21ms/step - loss: 7.6077\n"
          ],
          "name": "stdout"
        },
        {
          "output_type": "stream",
          "text": [
            "WARNING:absl:Found untraced functions such as lstm_cell_21_layer_call_fn, lstm_cell_21_layer_call_and_return_conditional_losses, lstm_cell_21_layer_call_fn, lstm_cell_21_layer_call_and_return_conditional_losses, lstm_cell_21_layer_call_and_return_conditional_losses while saving (showing 5 of 5). These functions will not be directly callable after loading.\n",
            "WARNING:absl:Found untraced functions such as lstm_cell_21_layer_call_fn, lstm_cell_21_layer_call_and_return_conditional_losses, lstm_cell_21_layer_call_fn, lstm_cell_21_layer_call_and_return_conditional_losses, lstm_cell_21_layer_call_and_return_conditional_losses while saving (showing 5 of 5). These functions will not be directly callable after loading.\n"
          ],
          "name": "stderr"
        },
        {
          "output_type": "stream",
          "text": [
            "INFO:tensorflow:Assets written to: /content/drive/MyDrive/naive_model/naive_simple_model_16/assets\n"
          ],
          "name": "stdout"
        },
        {
          "output_type": "stream",
          "text": [
            "INFO:tensorflow:Assets written to: /content/drive/MyDrive/naive_model/naive_simple_model_16/assets\n"
          ],
          "name": "stderr"
        },
        {
          "output_type": "stream",
          "text": [
            "Epoch 18/21\n",
            "16220/16220 [==============================] - 346s 21ms/step - loss: 7.6077\n",
            "Epoch 19/21\n",
            "16220/16220 [==============================] - 358s 22ms/step - loss: 7.6077\n",
            "Epoch 20/21\n",
            "16220/16220 [==============================] - 353s 22ms/step - loss: 7.6077\n",
            "Epoch 21/21\n",
            "16220/16220 [==============================] - 344s 21ms/step - loss: 7.6077\n"
          ],
          "name": "stdout"
        },
        {
          "output_type": "stream",
          "text": [
            "WARNING:absl:Found untraced functions such as lstm_cell_21_layer_call_fn, lstm_cell_21_layer_call_and_return_conditional_losses, lstm_cell_21_layer_call_fn, lstm_cell_21_layer_call_and_return_conditional_losses, lstm_cell_21_layer_call_and_return_conditional_losses while saving (showing 5 of 5). These functions will not be directly callable after loading.\n",
            "WARNING:absl:Found untraced functions such as lstm_cell_21_layer_call_fn, lstm_cell_21_layer_call_and_return_conditional_losses, lstm_cell_21_layer_call_fn, lstm_cell_21_layer_call_and_return_conditional_losses, lstm_cell_21_layer_call_and_return_conditional_losses while saving (showing 5 of 5). These functions will not be directly callable after loading.\n"
          ],
          "name": "stderr"
        },
        {
          "output_type": "stream",
          "text": [
            "INFO:tensorflow:Assets written to: /content/drive/MyDrive/naive_model/naive_simple_model_20/assets\n"
          ],
          "name": "stdout"
        },
        {
          "output_type": "stream",
          "text": [
            "INFO:tensorflow:Assets written to: /content/drive/MyDrive/naive_model/naive_simple_model_20/assets\n"
          ],
          "name": "stderr"
        },
        {
          "output_type": "execute_result",
          "data": {
            "text/plain": [
              "<tensorflow.python.keras.callbacks.History at 0x7fa44f475210>"
            ]
          },
          "metadata": {
            "tags": []
          },
          "execution_count": 133
        }
      ]
    },
    {
      "cell_type": "code",
      "metadata": {
        "id": "wirO26ZbFHY_"
      },
      "source": [
        "class TextGenerator():\n",
        "    def __init__(\n",
        "        self, max_tokens, start_tokens, index_to_word, top_k=10,maxlen=20):\n",
        "        self.max_tokens = max_tokens\n",
        "        self.start_tokens = start_tokens\n",
        "        self.index_to_word = index_to_word\n",
        "        self.k = top_k\n",
        "        self.maxlen=maxlen\n",
        "\n",
        "    def sample_from(self, logits):\n",
        "        logits, indices = tf.math.top_k(logits, k=self.k, sorted=True)\n",
        "        indices = np.asarray(indices).astype(\"int32\")\n",
        "        preds = keras.activations.softmax(tf.expand_dims(logits, 0))[0]\n",
        "        preds = np.asarray(preds).astype(\"float32\")\n",
        "        return np.random.choice(indices, p=preds)\n",
        "\n",
        "    def detokenize(self, number):\n",
        "        return self.index_to_word[number]\n",
        "\n",
        "    def get_sen(self, model):\n",
        "        start_tokens = [_ for _ in self.start_tokens]\n",
        "        num_tokens_generated = 0\n",
        "        tokens_generated = []\n",
        "        while num_tokens_generated <= self.max_tokens:\n",
        "            pad_len = self.maxlen - len(start_tokens)\n",
        "            print(pad_len) #rem\n",
        "            sample_index = len(start_tokens) - 1\n",
        "            print(sample_index)\n",
        "            if pad_len < 0:\n",
        "                x = start_tokens[:self.maxlen]\n",
        "                sample_index = self.maxlen - 1\n",
        "            elif pad_len > 0:\n",
        "                x = start_tokens + [0] * pad_len\n",
        "            else:\n",
        "                x = start_tokens\n",
        "            print(x)\n",
        "            x = np.array([x])\n",
        "            y = model.predict(x)\n",
        "            sample_token = self.sample_from(y[0][sample_index])\n",
        "            tokens_generated.append(sample_token)\n",
        "            start_tokens.append(sample_token)\n",
        "            num_tokens_generated = len(tokens_generated)\n",
        "        txt = \" \".join(\n",
        "            [self.detokenize(_) for _ in self.start_tokens + tokens_generated]\n",
        "        )\n",
        "        return txt"
      ],
      "execution_count": 47,
      "outputs": []
    },
    {
      "cell_type": "code",
      "metadata": {
        "id": "TonGf5BXxr2_"
      },
      "source": [
        "model = keras.models.load_model('/content/drive/MyDrive/naive_model/naive_simple_model_20')"
      ],
      "execution_count": 45,
      "outputs": []
    },
    {
      "cell_type": "code",
      "metadata": {
        "id": "djttb5fSx_KK"
      },
      "source": [
        "word_to_index = {}\n",
        "for index, word in enumerate(vocab):\n",
        "    word_to_index[word] = index\n",
        "num_tokens_generated = 10\n",
        "start_tokens = [word_to_index.get(_, 1) for _ in start_prompt.split()]"
      ],
      "execution_count": 49,
      "outputs": []
    },
    {
      "cell_type": "code",
      "metadata": {
        "id": "MuZXUmORFRZp"
      },
      "source": [
        "start_prompt = \"ye sab kya\"\n",
        "gen = TextGenerator(num_tokens_generated, start_tokens, vocab)"
      ],
      "execution_count": 50,
      "outputs": []
    },
    {
      "cell_type": "code",
      "metadata": {
        "colab": {
          "base_uri": "https://localhost:8080/",
          "height": 590
        },
        "id": "0KJ-XUaWHbHu",
        "outputId": "19ff29d4-3b89-4763-c7a0-e9a176a09ae7"
      },
      "source": [
        "gen.get_sen(model)"
      ],
      "execution_count": 51,
      "outputs": [
        {
          "output_type": "stream",
          "text": [
            "17\n",
            "2\n",
            "[18, 52, 22, 0, 0, 0, 0, 0, 0, 0, 0, 0, 0, 0, 0, 0, 0, 0, 0, 0]\n",
            "16\n",
            "3\n",
            "[18, 52, 22, 2706, 0, 0, 0, 0, 0, 0, 0, 0, 0, 0, 0, 0, 0, 0, 0, 0]\n",
            "15\n",
            "4\n",
            "[18, 52, 22, 2706, 15240, 0, 0, 0, 0, 0, 0, 0, 0, 0, 0, 0, 0, 0, 0, 0]\n",
            "14\n",
            "5\n",
            "[18, 52, 22, 2706, 15240, 8999, 0, 0, 0, 0, 0, 0, 0, 0, 0, 0, 0, 0, 0, 0]\n",
            "13\n",
            "6\n",
            "[18, 52, 22, 2706, 15240, 8999, 17031, 0, 0, 0, 0, 0, 0, 0, 0, 0, 0, 0, 0, 0]\n",
            "12\n",
            "7\n",
            "[18, 52, 22, 2706, 15240, 8999, 17031, 15240, 0, 0, 0, 0, 0, 0, 0, 0, 0, 0, 0, 0]\n",
            "11\n",
            "8\n",
            "[18, 52, 22, 2706, 15240, 8999, 17031, 15240, 8999, 0, 0, 0, 0, 0, 0, 0, 0, 0, 0, 0]\n",
            "10\n",
            "9\n",
            "[18, 52, 22, 2706, 15240, 8999, 17031, 15240, 8999, 9998, 0, 0, 0, 0, 0, 0, 0, 0, 0, 0]\n",
            "9\n",
            "10\n",
            "[18, 52, 22, 2706, 15240, 8999, 17031, 15240, 8999, 9998, 22782, 0, 0, 0, 0, 0, 0, 0, 0, 0]\n",
            "8\n",
            "11\n",
            "[18, 52, 22, 2706, 15240, 8999, 17031, 15240, 8999, 9998, 22782, 19087, 0, 0, 0, 0, 0, 0, 0, 0]\n",
            "7\n",
            "12\n",
            "[18, 52, 22, 2706, 15240, 8999, 17031, 15240, 8999, 9998, 22782, 19087, 17031, 0, 0, 0, 0, 0, 0, 0]\n"
          ],
          "name": "stdout"
        },
        {
          "output_type": "execute_result",
          "data": {
            "application/vnd.google.colaboratory.intrinsic+json": {
              "type": "string"
            },
            "text/plain": [
              "'ye sab kya pellet smone waar prayer smone waar potli gujaara martaba prayer prayer'"
            ]
          },
          "metadata": {
            "tags": []
          },
          "execution_count": 51
        }
      ]
    }
  ]
}