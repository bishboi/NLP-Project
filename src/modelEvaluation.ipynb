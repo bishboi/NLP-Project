{
  "nbformat": 4,
  "nbformat_minor": 0,
  "metadata": {
    "colab": {
      "name": "project2.ipynb",
      "provenance": []
    },
    "kernelspec": {
      "name": "python3",
      "display_name": "Python 3"
    },
    "language_info": {
      "name": "python"
    },
    "accelerator": "GPU"
  },
  "cells": [
    {
      "cell_type": "code",
      "metadata": {
        "colab": {
          "base_uri": "https://localhost:8080/"
        },
        "id": "emqT8tPaQEMd",
        "outputId": "32f6436c-6c31-4db3-bd06-90ce69c632e9"
      },
      "source": [
        "from google.colab import drive\n",
        "drive.mount('/content/drive')"
      ],
      "execution_count": null,
      "outputs": [
        {
          "output_type": "stream",
          "text": [
            "Drive already mounted at /content/drive; to attempt to forcibly remount, call drive.mount(\"/content/drive\", force_remount=True).\n"
          ],
          "name": "stdout"
        }
      ]
    },
    {
      "cell_type": "code",
      "metadata": {
        "id": "TIFyrJuRQMUC"
      },
      "source": [
        "import tensorflow as tf\n",
        "from tensorflow import keras\n",
        "from tensorflow.keras import layers\n",
        "from tensorflow.keras.layers.experimental.preprocessing import TextVectorization\n",
        "import numpy as np\n",
        "import os\n",
        "import re\n",
        "import string\n",
        "import random\n",
        "import tensorflow_datasets as tfds\n",
        "import pickle\n",
        "from keras.layers.normalization import BatchNormalization"
      ],
      "execution_count": 2,
      "outputs": []
    },
    {
      "cell_type": "code",
      "metadata": {
        "id": "lAUt4OrqQS6G"
      },
      "source": [
        "from keras.preprocessing.text import Tokenizer\n",
        "from keras.utils import to_categorical\n",
        "from keras.models import Sequential\n",
        "from keras.layers import Dense\n",
        "from keras.layers import LSTM\n",
        "from keras.layers import Embedding\n",
        "import pandas as pd\n",
        "import matplotlib.pyplot as plt\n",
        "from keras.layers.merge import concatenate"
      ],
      "execution_count": 3,
      "outputs": []
    },
    {
      "cell_type": "code",
      "metadata": {
        "id": "nqSFXz5VQf_R"
      },
      "source": [
        "df = pd.read_csv('/content/drive/MyDrive/data/sentences_file.txt',sep='\\t',header = None)"
      ],
      "execution_count": null,
      "outputs": []
    },
    {
      "cell_type": "code",
      "metadata": {
        "id": "JBDlcQc1XeTh"
      },
      "source": [
        "len_of_sentence = {}\n",
        "word_freq = {}\n",
        "for sen in df[0]:\n",
        "  list_of_words = sen.split()\n",
        "\n",
        "  length = len(list_of_words)\n",
        "  if(length not in len_of_sentence.keys()):\n",
        "    len_of_sentence[length] = 0\n",
        "  len_of_sentence[length] += 1\n",
        "\n",
        "  for word in list_of_words:\n",
        "    if(word not in word_freq.keys()):\n",
        "      word_freq[word] = 0\n",
        "    word_freq[word] += 1\n"
      ],
      "execution_count": null,
      "outputs": []
    },
    {
      "cell_type": "code",
      "metadata": {
        "id": "9RUassb0d1FU"
      },
      "source": [
        "vocab_size = len(word_freq)"
      ],
      "execution_count": null,
      "outputs": []
    },
    {
      "cell_type": "code",
      "metadata": {
        "colab": {
          "base_uri": "https://localhost:8080/"
        },
        "id": "zDxBwvodfK-s",
        "outputId": "7d1420da-da8c-47bd-8914-c0c9632f2929"
      },
      "source": [
        "len(word_freq)"
      ],
      "execution_count": null,
      "outputs": [
        {
          "output_type": "execute_result",
          "data": {
            "text/plain": [
              "28374"
            ]
          },
          "metadata": {
            "tags": []
          },
          "execution_count": 10
        }
      ]
    },
    {
      "cell_type": "code",
      "metadata": {
        "id": "jmBsvtDzlT52"
      },
      "source": [
        "train = tf.data.TextLineDataset(\"/content/drive/MyDrive/data/sentences_file.txt\")"
      ],
      "execution_count": null,
      "outputs": []
    },
    {
      "cell_type": "code",
      "metadata": {
        "id": "ktUjfuYQlT53"
      },
      "source": [
        "def custom_standard(input_string):\n",
        "    return tf.strings.lower(input_string)"
      ],
      "execution_count": null,
      "outputs": []
    },
    {
      "cell_type": "code",
      "metadata": {
        "id": "ycrkMGuelT54"
      },
      "source": [
        "vectorize_layer = TextVectorization(\n",
        "   standardize=custom_standard,\n",
        "    max_tokens=int((99.5/100)*vocab_size),\n",
        "    output_mode=\"int\",\n",
        ")"
      ],
      "execution_count": null,
      "outputs": []
    },
    {
      "cell_type": "code",
      "metadata": {
        "id": "BHN9WgDMlT54"
      },
      "source": [
        "vectorize_layer.adapt(train)"
      ],
      "execution_count": null,
      "outputs": []
    },
    {
      "cell_type": "code",
      "metadata": {
        "id": "dvrKk0ULlT55"
      },
      "source": [
        "vocab = vectorize_layer.get_vocabulary()\n",
        "vocab_size = len(vocab)"
      ],
      "execution_count": null,
      "outputs": []
    },
    {
      "cell_type": "code",
      "metadata": {
        "id": "0O1e27Ai_reP"
      },
      "source": [
        "ix_to_vocab = {}\n",
        "for i in range(len(vocab)):\n",
        "  ix_to_vocab[vocab[i]] = i"
      ],
      "execution_count": null,
      "outputs": []
    },
    {
      "cell_type": "code",
      "metadata": {
        "colab": {
          "base_uri": "https://localhost:8080/"
        },
        "id": "AelgTXWykWgi",
        "outputId": "cda310d6-4376-4047-a233-be1843cf332e"
      },
      "source": [
        "vocab_size"
      ],
      "execution_count": null,
      "outputs": [
        {
          "output_type": "execute_result",
          "data": {
            "text/plain": [
              "28232"
            ]
          },
          "metadata": {
            "tags": []
          },
          "execution_count": 17
        }
      ]
    },
    {
      "cell_type": "code",
      "metadata": {
        "id": "_RnjB8XLlV5X"
      },
      "source": [
        "def prepare_dataset(text):\n",
        "    '''\n",
        "    text = [1,2,3,4,5] seq_len = 4\n",
        "    x = [1,2,3,4] y = [2,3,4,5]\n",
        "    '''\n",
        "    text = tf.expand_dims(text, -1)\n",
        "    return vectorize_layer(text)"
      ],
      "execution_count": null,
      "outputs": []
    },
    {
      "cell_type": "code",
      "metadata": {
        "id": "wsNojtARfj4o"
      },
      "source": [
        "train_ds = train.map(prepare_dataset) # train_ds[0] = tuple(x[0],y[0])"
      ],
      "execution_count": null,
      "outputs": []
    },
    {
      "cell_type": "code",
      "metadata": {
        "id": "n4U8TP5cnI7f"
      },
      "source": [
        "tokenised_sen = []\n",
        "for i in train_ds:\n",
        "  tokenised_sen.append(i.numpy().reshape(-1,))"
      ],
      "execution_count": null,
      "outputs": []
    },
    {
      "cell_type": "code",
      "metadata": {
        "colab": {
          "base_uri": "https://localhost:8080/"
        },
        "id": "h7QsQKvQKFua",
        "outputId": "79dfb1e9-6cf7-4864-a7f6-972c810c3d0d"
      },
      "source": [
        "tokenised_sen[:2]"
      ],
      "execution_count": null,
      "outputs": [
        {
          "output_type": "execute_result",
          "data": {
            "text/plain": [
              "[array([  18,    4,  193,   19,   48,   28,  216,   87,  221,    5,  780,\n",
              "        1054,   19,   13,  922, 1641, 3479,   16]),\n",
              " array([  716, 23307,     2,  6375,   160,    72,    25,  1336,   583])]"
            ]
          },
          "metadata": {
            "tags": []
          },
          "execution_count": 21
        }
      ]
    },
    {
      "cell_type": "code",
      "metadata": {
        "id": "1QCVtjLHqbR9"
      },
      "source": [
        "f = open(\"/content/drive/MyDrive/data/lid_file.txt\")\n",
        "iter = 0\n",
        "lids = []\n",
        "for i in f:\n",
        "  lids.append( [int(t) for t in i.split()]   )\n",
        "f.close()"
      ],
      "execution_count": null,
      "outputs": []
    },
    {
      "cell_type": "code",
      "metadata": {
        "id": "vWzhSMU1qa5o"
      },
      "source": [
        "def get_x1_x2_y(tokenised_sen,lids,maxlen,step):\n",
        "  final_x1 = []\n",
        "  final_x2 = []\n",
        "  final_y = []\n",
        "  iter = 0\n",
        "  for d in tokenised_sen:\n",
        "    l = d.shape[0]\n",
        "    for i in range(0,l-maxlen-1,step):\n",
        "      final_x1.append(d[i:i+maxlen])\n",
        "      final_x2.append(lids[iter][i:i+maxlen])\n",
        "      final_y.append(d[i+1:i+maxlen+1])\n",
        "    iter += 1\n",
        "  return np.array(final_x1).reshape(len(final_x1),len(final_x1[0])),np.array(final_x2).reshape(len(final_x2),len(final_x2[0])),np.array(final_y).reshape(len(final_y),len(final_y[0]))"
      ],
      "execution_count": null,
      "outputs": []
    },
    {
      "cell_type": "code",
      "metadata": {
        "id": "RWcxU-xDn9vp"
      },
      "source": [
        "maxlen = 5 \n",
        "step = 1\n",
        "fx1,fx2,fy = get_x1_x2_y(tokenised_sen,lids,maxlen,step)"
      ],
      "execution_count": null,
      "outputs": []
    },
    {
      "cell_type": "markdown",
      "metadata": {
        "id": "rnc4lCHr1JCn"
      },
      "source": [
        "## building model architecture"
      ]
    },
    {
      "cell_type": "code",
      "metadata": {
        "id": "947IYscG_DBN"
      },
      "source": [
        "def get_model(seq_length,embed_dim,vocab_size,lstm_cells,dense_cells):\n",
        "  inputs1 = tf.keras.layers.Input(shape=(seq_length))\n",
        "  embed1 = tf.keras.layers.Embedding(vocab_size,embed_dim, input_length=seq_length)(inputs1)\n",
        "  lstm1 = tf.keras.layers.LSTM(lstm_cells, return_sequences=True)(embed1)\n",
        "  dense1 = tf.keras.layers.Dense(dense_cells, activation='relu')(lstm1)\n",
        "\n",
        "  inputs2 = tf.keras.layers.Input(shape=(seq_length))\n",
        "  embed2 = tf.keras.layers.Embedding(vocab_size,embed_dim, input_length=seq_length)(inputs2)\n",
        "  lstm2 = tf.keras.layers.LSTM(lstm_cells, return_sequences=True)(embed2)\n",
        "  dense2 = tf.keras.layers.Dense(dense_cells, activation='relu')(lstm2)\n",
        "\n",
        "  merged = concatenate([dense1, dense2])\n",
        "  dense_merged = tf.keras.layers.Dense(dense_cells,activation='relu')(merged)\n",
        "\n",
        "  word_dense = tf.keras.layers.Dense(vocab_size,activation='softmax')(dense_merged)\n",
        "\n",
        "  model = tf.keras.Model(inputs=[inputs1,inputs2], outputs=word_dense)\n",
        "  return model"
      ],
      "execution_count": null,
      "outputs": []
    },
    {
      "cell_type": "markdown",
      "metadata": {
        "id": "r_ya1PBQ1L84"
      },
      "source": [
        "## model3 summary"
      ]
    },
    {
      "cell_type": "code",
      "metadata": {
        "id": "zuzdLZWDuj5r"
      },
      "source": [
        "mdl_3 = get_model(seq_length=5,embed_dim=512,vocab_size=vocab_size,lstm_cells=512,dense_cells=512)\n",
        "optimizer = keras.optimizers.RMSprop(lr=0.01)\n",
        "mdl_3.compile(loss='categorical_crossentropy', optimizer=optimizer)"
      ],
      "execution_count": null,
      "outputs": []
    },
    {
      "cell_type": "code",
      "metadata": {
        "colab": {
          "base_uri": "https://localhost:8080/"
        },
        "id": "UWA7w6mvvHdE",
        "outputId": "73442d55-2e46-4499-bfe2-ce0206c7aab9"
      },
      "source": [
        "mdl_3.summary()"
      ],
      "execution_count": null,
      "outputs": [
        {
          "output_type": "stream",
          "text": [
            "Model: \"model\"\n",
            "__________________________________________________________________________________________________\n",
            "Layer (type)                    Output Shape         Param #     Connected to                     \n",
            "==================================================================================================\n",
            "input_1 (InputLayer)            [(None, 5)]          0                                            \n",
            "__________________________________________________________________________________________________\n",
            "input_2 (InputLayer)            [(None, 5)]          0                                            \n",
            "__________________________________________________________________________________________________\n",
            "embedding (Embedding)           (None, 5, 512)       14454784    input_1[0][0]                    \n",
            "__________________________________________________________________________________________________\n",
            "embedding_1 (Embedding)         (None, 5, 512)       14454784    input_2[0][0]                    \n",
            "__________________________________________________________________________________________________\n",
            "lstm (LSTM)                     (None, 5, 512)       2099200     embedding[0][0]                  \n",
            "__________________________________________________________________________________________________\n",
            "lstm_1 (LSTM)                   (None, 5, 512)       2099200     embedding_1[0][0]                \n",
            "__________________________________________________________________________________________________\n",
            "dense (Dense)                   (None, 5, 512)       262656      lstm[0][0]                       \n",
            "__________________________________________________________________________________________________\n",
            "dense_1 (Dense)                 (None, 5, 512)       262656      lstm_1[0][0]                     \n",
            "__________________________________________________________________________________________________\n",
            "concatenate (Concatenate)       (None, 5, 1024)      0           dense[0][0]                      \n",
            "                                                                 dense_1[0][0]                    \n",
            "__________________________________________________________________________________________________\n",
            "dense_2 (Dense)                 (None, 5, 512)       524800      concatenate[0][0]                \n",
            "__________________________________________________________________________________________________\n",
            "dense_3 (Dense)                 (None, 5, 28232)     14483016    dense_2[0][0]                    \n",
            "==================================================================================================\n",
            "Total params: 48,641,096\n",
            "Trainable params: 48,641,096\n",
            "Non-trainable params: 0\n",
            "__________________________________________________________________________________________________\n"
          ],
          "name": "stdout"
        }
      ]
    },
    {
      "cell_type": "markdown",
      "metadata": {
        "id": "b2DiyAic1U2F"
      },
      "source": [
        "#building custom data generator"
      ]
    },
    {
      "cell_type": "code",
      "metadata": {
        "id": "cl1EhfK3vKMS"
      },
      "source": [
        "class TextDataGenerator(keras.utils.Sequence):\n",
        "    def __init__(self, input1,input2, target, sequence_length, vocab_size, batch_size=32, shuffle=True):\n",
        "        self.batch_size = batch_size\n",
        "        self.input1 = input1\n",
        "        self.input2 = input2\n",
        "        self.target = target\n",
        "        self.sequence_length = sequence_length\n",
        "        self.vocab_size = vocab_size\n",
        "        self.shuffle = shuffle\n",
        "        self.on_epoch_end()\n",
        "\n",
        "    def __len__(self):\n",
        "        return int(np.floor(len(self.input1) / self.batch_size))\n",
        "\n",
        "    def __getitem__(self, index):\n",
        "        indexes = self.indexes[index * self.batch_size: (index + 1) * self.batch_size]\n",
        "        #print(indexes)\n",
        "        sequences_batch = [self.input1[k] for k in indexes]\n",
        "        lid_batch = [self.input2[k] for k in indexes]\n",
        "        next_words_batch = [self.target[k] for k in indexes]\n",
        "\n",
        "        X1 = np.array(sequences_batch)\n",
        "        X2 = np.array(lid_batch)\n",
        "        y = keras.utils.to_categorical(next_words_batch, num_classes=self.vocab_size)\n",
        "\n",
        "        return [X1,X2], y\n",
        "\n",
        "    def on_epoch_end(self):\n",
        "        self.indexes = np.arange(len(self.input1))\n",
        "        if self.shuffle == True:\n",
        "           np.random.shuffle(self.indexes)"
      ],
      "execution_count": null,
      "outputs": []
    },
    {
      "cell_type": "code",
      "metadata": {
        "id": "Sy9dVcb3v3-c"
      },
      "source": [
        "datagen = TextDataGenerator(fx1,fx2,fy,5,vocab_size,512)"
      ],
      "execution_count": null,
      "outputs": []
    },
    {
      "cell_type": "markdown",
      "metadata": {
        "id": "jtVQte-K1ZD2"
      },
      "source": [
        "#Training and plotting loss graph of model-3"
      ]
    },
    {
      "cell_type": "code",
      "metadata": {
        "colab": {
          "base_uri": "https://localhost:8080/"
        },
        "id": "Xu1mD-1Nwjjs",
        "outputId": "25cbbb76-ff7f-4189-c6df-4d45ef961095"
      },
      "source": [
        "loss_val = []\n",
        "for i in range(5):\n",
        "  hist = mdl_3.fit(datagen,\n",
        "          steps_per_epoch=len(datagen),\n",
        "          epochs=10,\n",
        "          verbose=1)\n",
        "  loss_val = loss_val+hist.history['loss']\n",
        "  mdl_3.save(\"/content/drive/MyDrive/finally_final/mdl_3/\"+str((i+1)*10)+\"/model/\")\n",
        "plt.plot(loss_val)\n",
        "plt.title('model loss')\n",
        "plt.ylabel('loss')\n",
        "plt.xlabel('epoch')\n",
        "plt.legend(['train'], loc='upper left')\n",
        "plt.show()"
      ],
      "execution_count": null,
      "outputs": [
        {
          "output_type": "stream",
          "text": [
            "Epoch 1/10\n",
            "478/478 [==============================] - 182s 311ms/step - loss: 7.9773\n",
            "Epoch 2/10\n",
            "478/478 [==============================] - 150s 314ms/step - loss: 6.3822\n",
            "Epoch 3/10\n",
            "478/478 [==============================] - 150s 313ms/step - loss: 5.9008\n",
            "Epoch 4/10\n",
            "478/478 [==============================] - 150s 313ms/step - loss: 5.5693\n",
            "Epoch 5/10\n",
            "478/478 [==============================] - 149s 311ms/step - loss: 5.3190\n",
            "Epoch 6/10\n",
            "478/478 [==============================] - 149s 311ms/step - loss: 5.1866\n",
            "Epoch 7/10\n",
            "478/478 [==============================] - 149s 311ms/step - loss: 5.0941\n",
            "Epoch 8/10\n",
            "478/478 [==============================] - 149s 311ms/step - loss: 5.0309\n",
            "Epoch 9/10\n",
            "478/478 [==============================] - 149s 312ms/step - loss: 4.9970\n",
            "Epoch 10/10\n",
            "478/478 [==============================] - 149s 312ms/step - loss: 4.9888\n"
          ],
          "name": "stdout"
        },
        {
          "output_type": "stream",
          "text": [
            "WARNING:absl:Found untraced functions such as lstm_cell_layer_call_fn, lstm_cell_layer_call_and_return_conditional_losses, lstm_cell_1_layer_call_fn, lstm_cell_1_layer_call_and_return_conditional_losses, lstm_cell_layer_call_fn while saving (showing 5 of 10). These functions will not be directly callable after loading.\n",
            "WARNING:absl:Found untraced functions such as lstm_cell_layer_call_fn, lstm_cell_layer_call_and_return_conditional_losses, lstm_cell_1_layer_call_fn, lstm_cell_1_layer_call_and_return_conditional_losses, lstm_cell_layer_call_fn while saving (showing 5 of 10). These functions will not be directly callable after loading.\n"
          ],
          "name": "stderr"
        },
        {
          "output_type": "stream",
          "text": [
            "INFO:tensorflow:Assets written to: /content/drive/MyDrive/finally_final/mdl_3/10/model/assets\n"
          ],
          "name": "stdout"
        },
        {
          "output_type": "stream",
          "text": [
            "INFO:tensorflow:Assets written to: /content/drive/MyDrive/finally_final/mdl_3/10/model/assets\n"
          ],
          "name": "stderr"
        },
        {
          "output_type": "stream",
          "text": [
            "Epoch 1/10\n",
            "478/478 [==============================] - 149s 312ms/step - loss: 5.0433\n",
            "Epoch 2/10\n",
            "478/478 [==============================] - 148s 310ms/step - loss: 5.0453\n",
            "Epoch 3/10\n",
            "478/478 [==============================] - 149s 311ms/step - loss: 5.0535\n",
            "Epoch 4/10\n",
            "478/478 [==============================] - 148s 310ms/step - loss: 5.0592\n",
            "Epoch 5/10\n",
            "478/478 [==============================] - 148s 308ms/step - loss: 5.0865\n",
            "Epoch 6/10\n",
            "478/478 [==============================] - 148s 310ms/step - loss: 5.1106\n",
            "Epoch 7/10\n",
            "478/478 [==============================] - 147s 308ms/step - loss: 5.1515\n",
            "Epoch 8/10\n",
            "478/478 [==============================] - 146s 306ms/step - loss: 5.1626\n",
            "Epoch 9/10\n",
            "478/478 [==============================] - 148s 309ms/step - loss: 5.1856\n",
            "Epoch 10/10\n",
            "478/478 [==============================] - 148s 310ms/step - loss: 5.4577\n"
          ],
          "name": "stdout"
        },
        {
          "output_type": "stream",
          "text": [
            "WARNING:absl:Found untraced functions such as lstm_cell_layer_call_fn, lstm_cell_layer_call_and_return_conditional_losses, lstm_cell_1_layer_call_fn, lstm_cell_1_layer_call_and_return_conditional_losses, lstm_cell_layer_call_fn while saving (showing 5 of 10). These functions will not be directly callable after loading.\n",
            "WARNING:absl:Found untraced functions such as lstm_cell_layer_call_fn, lstm_cell_layer_call_and_return_conditional_losses, lstm_cell_1_layer_call_fn, lstm_cell_1_layer_call_and_return_conditional_losses, lstm_cell_layer_call_fn while saving (showing 5 of 10). These functions will not be directly callable after loading.\n"
          ],
          "name": "stderr"
        },
        {
          "output_type": "stream",
          "text": [
            "INFO:tensorflow:Assets written to: /content/drive/MyDrive/finally_final/mdl_3/20/model/assets\n"
          ],
          "name": "stdout"
        },
        {
          "output_type": "stream",
          "text": [
            "INFO:tensorflow:Assets written to: /content/drive/MyDrive/finally_final/mdl_3/20/model/assets\n"
          ],
          "name": "stderr"
        },
        {
          "output_type": "stream",
          "text": [
            "Epoch 1/10\n",
            "478/478 [==============================] - 148s 309ms/step - loss: 5.4310\n",
            "Epoch 2/10\n",
            "478/478 [==============================] - 147s 308ms/step - loss: 5.5604\n",
            "Epoch 3/10\n",
            "478/478 [==============================] - 148s 310ms/step - loss: 5.4057\n",
            "Epoch 4/10\n",
            "478/478 [==============================] - 148s 310ms/step - loss: 5.4023\n",
            "Epoch 5/10\n",
            "478/478 [==============================] - 147s 308ms/step - loss: 5.3442\n",
            "Epoch 6/10\n",
            "478/478 [==============================] - 149s 312ms/step - loss: 5.3469\n",
            "Epoch 7/10\n",
            "478/478 [==============================] - 147s 307ms/step - loss: 5.3654\n",
            "Epoch 8/10\n",
            "478/478 [==============================] - 148s 310ms/step - loss: 5.3971\n",
            "Epoch 9/10\n",
            "478/478 [==============================] - 147s 307ms/step - loss: 5.4226\n",
            "Epoch 10/10\n",
            "478/478 [==============================] - 148s 309ms/step - loss: 5.4698\n"
          ],
          "name": "stdout"
        },
        {
          "output_type": "stream",
          "text": [
            "WARNING:absl:Found untraced functions such as lstm_cell_layer_call_fn, lstm_cell_layer_call_and_return_conditional_losses, lstm_cell_1_layer_call_fn, lstm_cell_1_layer_call_and_return_conditional_losses, lstm_cell_layer_call_fn while saving (showing 5 of 10). These functions will not be directly callable after loading.\n",
            "WARNING:absl:Found untraced functions such as lstm_cell_layer_call_fn, lstm_cell_layer_call_and_return_conditional_losses, lstm_cell_1_layer_call_fn, lstm_cell_1_layer_call_and_return_conditional_losses, lstm_cell_layer_call_fn while saving (showing 5 of 10). These functions will not be directly callable after loading.\n"
          ],
          "name": "stderr"
        },
        {
          "output_type": "stream",
          "text": [
            "INFO:tensorflow:Assets written to: /content/drive/MyDrive/finally_final/mdl_3/30/model/assets\n"
          ],
          "name": "stdout"
        },
        {
          "output_type": "stream",
          "text": [
            "INFO:tensorflow:Assets written to: /content/drive/MyDrive/finally_final/mdl_3/30/model/assets\n"
          ],
          "name": "stderr"
        },
        {
          "output_type": "stream",
          "text": [
            "Epoch 1/10\n",
            "478/478 [==============================] - 147s 308ms/step - loss: 5.5193\n",
            "Epoch 2/10\n",
            "478/478 [==============================] - 147s 307ms/step - loss: 5.5799\n",
            "Epoch 3/10\n",
            "478/478 [==============================] - 147s 308ms/step - loss: 5.6658\n",
            "Epoch 4/10\n",
            "478/478 [==============================] - 146s 306ms/step - loss: 5.7887\n",
            "Epoch 5/10\n",
            "478/478 [==============================] - 147s 307ms/step - loss: 5.9343\n",
            "Epoch 6/10\n",
            "478/478 [==============================] - 147s 307ms/step - loss: 6.0594\n",
            "Epoch 7/10\n",
            "478/478 [==============================] - 147s 308ms/step - loss: 6.1186\n",
            "Epoch 8/10\n",
            "478/478 [==============================] - 147s 307ms/step - loss: 6.1420\n",
            "Epoch 9/10\n",
            "478/478 [==============================] - 147s 307ms/step - loss: 5.8193\n",
            "Epoch 10/10\n",
            "478/478 [==============================] - 146s 306ms/step - loss: 5.7697\n"
          ],
          "name": "stdout"
        },
        {
          "output_type": "stream",
          "text": [
            "WARNING:absl:Found untraced functions such as lstm_cell_layer_call_fn, lstm_cell_layer_call_and_return_conditional_losses, lstm_cell_1_layer_call_fn, lstm_cell_1_layer_call_and_return_conditional_losses, lstm_cell_layer_call_fn while saving (showing 5 of 10). These functions will not be directly callable after loading.\n",
            "WARNING:absl:Found untraced functions such as lstm_cell_layer_call_fn, lstm_cell_layer_call_and_return_conditional_losses, lstm_cell_1_layer_call_fn, lstm_cell_1_layer_call_and_return_conditional_losses, lstm_cell_layer_call_fn while saving (showing 5 of 10). These functions will not be directly callable after loading.\n"
          ],
          "name": "stderr"
        },
        {
          "output_type": "stream",
          "text": [
            "INFO:tensorflow:Assets written to: /content/drive/MyDrive/finally_final/mdl_3/40/model/assets\n"
          ],
          "name": "stdout"
        },
        {
          "output_type": "stream",
          "text": [
            "INFO:tensorflow:Assets written to: /content/drive/MyDrive/finally_final/mdl_3/40/model/assets\n"
          ],
          "name": "stderr"
        },
        {
          "output_type": "stream",
          "text": [
            "Epoch 1/10\n",
            "478/478 [==============================] - 148s 310ms/step - loss: 5.7745\n",
            "Epoch 2/10\n",
            "478/478 [==============================] - 146s 306ms/step - loss: 5.7588\n",
            "Epoch 3/10\n",
            "478/478 [==============================] - 147s 308ms/step - loss: 5.8076\n",
            "Epoch 4/10\n",
            "478/478 [==============================] - 147s 308ms/step - loss: 5.7700\n",
            "Epoch 5/10\n",
            "478/478 [==============================] - 147s 308ms/step - loss: 5.7888\n",
            "Epoch 6/10\n",
            "478/478 [==============================] - 148s 309ms/step - loss: 5.8814\n",
            "Epoch 7/10\n",
            "478/478 [==============================] - 148s 309ms/step - loss: 5.8028\n",
            "Epoch 8/10\n",
            "478/478 [==============================] - 148s 309ms/step - loss: 5.7718\n",
            "Epoch 9/10\n",
            "478/478 [==============================] - 147s 307ms/step - loss: 5.7884\n",
            "Epoch 10/10\n",
            "478/478 [==============================] - 146s 306ms/step - loss: 5.8017\n"
          ],
          "name": "stdout"
        },
        {
          "output_type": "stream",
          "text": [
            "WARNING:absl:Found untraced functions such as lstm_cell_layer_call_fn, lstm_cell_layer_call_and_return_conditional_losses, lstm_cell_1_layer_call_fn, lstm_cell_1_layer_call_and_return_conditional_losses, lstm_cell_layer_call_fn while saving (showing 5 of 10). These functions will not be directly callable after loading.\n",
            "WARNING:absl:Found untraced functions such as lstm_cell_layer_call_fn, lstm_cell_layer_call_and_return_conditional_losses, lstm_cell_1_layer_call_fn, lstm_cell_1_layer_call_and_return_conditional_losses, lstm_cell_layer_call_fn while saving (showing 5 of 10). These functions will not be directly callable after loading.\n"
          ],
          "name": "stderr"
        },
        {
          "output_type": "stream",
          "text": [
            "INFO:tensorflow:Assets written to: /content/drive/MyDrive/finally_final/mdl_3/50/model/assets\n"
          ],
          "name": "stdout"
        },
        {
          "output_type": "stream",
          "text": [
            "INFO:tensorflow:Assets written to: /content/drive/MyDrive/finally_final/mdl_3/50/model/assets\n"
          ],
          "name": "stderr"
        },
        {
          "output_type": "display_data",
          "data": {
            "image/png": "[encoded data removed]",
            "text/plain": [
              "<Figure size 432x288 with 1 Axes>"
            ]
          },
          "metadata": {
            "tags": [],
            "needs_background": "light"
          }
        }
      ]
    },
    {
      "cell_type": "code",
      "metadata": {
        "id": "ZCNK3Ltw0RpM"
      },
      "source": [
        "def get_model2(seq_length,embed_dim,vocab_size,lstm_cells,dense_cells):\n",
        "  inputs1 = tf.keras.layers.Input(shape=(seq_length))\n",
        "  embed1 = tf.keras.layers.Embedding(vocab_size,embed_dim, input_length=seq_length)(inputs1)\n",
        "  lstm1 = tf.keras.layers.LSTM(lstm_cells, return_sequences=True)(embed1)\n",
        "  lstm11 = tf.keras.layers.LSTM(lstm_cells, return_sequences=True)(lstm1)\n",
        "  dense1 = tf.keras.layers.Dense(dense_cells, activation='relu')(lstm11)\n",
        "\n",
        "  inputs2 = tf.keras.layers.Input(shape=(seq_length))\n",
        "  embed2 = tf.keras.layers.Embedding(vocab_size,embed_dim, input_length=seq_length)(inputs2)\n",
        "  lstm2 = tf.keras.layers.LSTM(lstm_cells, return_sequences=True)(embed2)\n",
        "  \n",
        "  dense2 = tf.keras.layers.Dense(dense_cells, activation='relu')(lstm2)\n",
        "\n",
        "  merged = concatenate([dense1, dense2])\n",
        "  dense_merged = tf.keras.layers.Dense(dense_cells,activation='relu')(merged)\n",
        "\n",
        "  word_dense = tf.keras.layers.Dense(vocab_size,activation='softmax')(dense_merged)\n",
        "\n",
        "  model = tf.keras.Model(inputs=[inputs1,inputs2], outputs=word_dense)\n",
        "  return model"
      ],
      "execution_count": null,
      "outputs": []
    },
    {
      "cell_type": "markdown",
      "metadata": {
        "id": "maW1DApW1kDN"
      },
      "source": [
        "## model-4 architecture"
      ]
    },
    {
      "cell_type": "code",
      "metadata": {
        "id": "1utjtE260M3k"
      },
      "source": [
        "mdl_4 = get_model2(seq_length=5,embed_dim=512,vocab_size=vocab_size,lstm_cells=512,dense_cells=512)\n",
        "optimizer = keras.optimizers.RMSprop(lr=0.01)\n",
        "mdl_4.compile(loss='categorical_crossentropy', optimizer=optimizer)"
      ],
      "execution_count": null,
      "outputs": []
    },
    {
      "cell_type": "code",
      "metadata": {
        "id": "DFRKPnAw00ZJ",
        "colab": {
          "base_uri": "https://localhost:8080/"
        },
        "outputId": "1f13d387-afac-49b0-b6b5-8c9d07e15e92"
      },
      "source": [
        "mdl_4.summary()"
      ],
      "execution_count": null,
      "outputs": [
        {
          "output_type": "stream",
          "text": [
            "Model: \"model_1\"\n",
            "__________________________________________________________________________________________________\n",
            "Layer (type)                    Output Shape         Param #     Connected to                     \n",
            "==================================================================================================\n",
            "input_3 (InputLayer)            [(None, 5)]          0                                            \n",
            "__________________________________________________________________________________________________\n",
            "embedding_2 (Embedding)         (None, 5, 512)       14454784    input_3[0][0]                    \n",
            "__________________________________________________________________________________________________\n",
            "input_4 (InputLayer)            [(None, 5)]          0                                            \n",
            "__________________________________________________________________________________________________\n",
            "lstm_2 (LSTM)                   (None, 5, 512)       2099200     embedding_2[0][0]                \n",
            "__________________________________________________________________________________________________\n",
            "embedding_3 (Embedding)         (None, 5, 512)       14454784    input_4[0][0]                    \n",
            "__________________________________________________________________________________________________\n",
            "lstm_3 (LSTM)                   (None, 5, 512)       2099200     lstm_2[0][0]                     \n",
            "__________________________________________________________________________________________________\n",
            "lstm_4 (LSTM)                   (None, 5, 512)       2099200     embedding_3[0][0]                \n",
            "__________________________________________________________________________________________________\n",
            "dense_4 (Dense)                 (None, 5, 512)       262656      lstm_3[0][0]                     \n",
            "__________________________________________________________________________________________________\n",
            "dense_5 (Dense)                 (None, 5, 512)       262656      lstm_4[0][0]                     \n",
            "__________________________________________________________________________________________________\n",
            "concatenate_1 (Concatenate)     (None, 5, 1024)      0           dense_4[0][0]                    \n",
            "                                                                 dense_5[0][0]                    \n",
            "__________________________________________________________________________________________________\n",
            "dense_6 (Dense)                 (None, 5, 512)       524800      concatenate_1[0][0]              \n",
            "__________________________________________________________________________________________________\n",
            "dense_7 (Dense)                 (None, 5, 28232)     14483016    dense_6[0][0]                    \n",
            "==================================================================================================\n",
            "Total params: 50,740,296\n",
            "Trainable params: 50,740,296\n",
            "Non-trainable params: 0\n",
            "__________________________________________________________________________________________________\n"
          ],
          "name": "stdout"
        }
      ]
    },
    {
      "cell_type": "code",
      "metadata": {
        "id": "9YG4u3kd07s3"
      },
      "source": [
        "datagen2 = TextDataGenerator(fx1,fx2,fy,5,vocab_size,512)"
      ],
      "execution_count": null,
      "outputs": []
    },
    {
      "cell_type": "markdown",
      "metadata": {
        "id": "Y61Wcub-1q-P"
      },
      "source": [
        "#training and plotting loss graph of model-4"
      ]
    },
    {
      "cell_type": "code",
      "metadata": {
        "id": "E3H64ce10-no",
        "colab": {
          "base_uri": "https://localhost:8080/"
        },
        "outputId": "a566fd79-be6e-49ab-9662-14245e3a50ff"
      },
      "source": [
        "loss_val = []\n",
        "for i in range(5):\n",
        "  hist = mdl_4.fit(datagen2,\n",
        "          steps_per_epoch=len(datagen2),\n",
        "          epochs=10,\n",
        "          verbose=1)\n",
        "  loss_val = loss_val+hist.history['loss']\n",
        "  mdl_4.save(\"/content/drive/MyDrive/finally_final/mdl_4/\"+str((i+1)*10)+\"/model/\")\n",
        "plt.plot(loss_val)\n",
        "plt.title('model loss')\n",
        "plt.ylabel('loss')\n",
        "plt.xlabel('epoch')\n",
        "plt.legend(['train'], loc='upper left')\n",
        "plt.show()"
      ],
      "execution_count": null,
      "outputs": [
        {
          "output_type": "stream",
          "text": [
            "Epoch 1/10\n",
            "478/478 [==============================] - 157s 319ms/step - loss: 8.7381\n",
            "Epoch 2/10\n",
            "478/478 [==============================] - 149s 312ms/step - loss: 6.7367\n",
            "Epoch 3/10\n",
            "478/478 [==============================] - 149s 311ms/step - loss: 6.3572\n",
            "Epoch 4/10\n",
            "478/478 [==============================] - 148s 310ms/step - loss: 6.1066\n",
            "Epoch 5/10\n",
            "478/478 [==============================] - 150s 314ms/step - loss: 5.9032\n",
            "Epoch 6/10\n",
            "478/478 [==============================] - 150s 313ms/step - loss: 5.7534\n",
            "Epoch 7/10\n",
            "478/478 [==============================] - 152s 317ms/step - loss: 5.6750\n",
            "Epoch 8/10\n",
            "478/478 [==============================] - 151s 316ms/step - loss: 5.5681\n",
            "Epoch 9/10\n",
            "478/478 [==============================] - 150s 314ms/step - loss: 5.4989\n",
            "Epoch 10/10\n",
            "478/478 [==============================] - 149s 312ms/step - loss: 5.4625\n"
          ],
          "name": "stdout"
        },
        {
          "output_type": "stream",
          "text": [
            "WARNING:absl:Found untraced functions such as lstm_cell_2_layer_call_fn, lstm_cell_2_layer_call_and_return_conditional_losses, lstm_cell_3_layer_call_fn, lstm_cell_3_layer_call_and_return_conditional_losses, lstm_cell_4_layer_call_fn while saving (showing 5 of 15). These functions will not be directly callable after loading.\n",
            "WARNING:absl:Found untraced functions such as lstm_cell_2_layer_call_fn, lstm_cell_2_layer_call_and_return_conditional_losses, lstm_cell_3_layer_call_fn, lstm_cell_3_layer_call_and_return_conditional_losses, lstm_cell_4_layer_call_fn while saving (showing 5 of 15). These functions will not be directly callable after loading.\n"
          ],
          "name": "stderr"
        },
        {
          "output_type": "stream",
          "text": [
            "INFO:tensorflow:Assets written to: /content/drive/MyDrive/finally_final/mdl_4/10/model/assets\n"
          ],
          "name": "stdout"
        },
        {
          "output_type": "stream",
          "text": [
            "INFO:tensorflow:Assets written to: /content/drive/MyDrive/finally_final/mdl_4/10/model/assets\n"
          ],
          "name": "stderr"
        },
        {
          "output_type": "stream",
          "text": [
            "Epoch 1/10\n",
            "478/478 [==============================] - 150s 314ms/step - loss: 5.4787\n",
            "Epoch 2/10\n",
            "478/478 [==============================] - 150s 313ms/step - loss: 5.4313\n",
            "Epoch 3/10\n",
            "478/478 [==============================] - 152s 318ms/step - loss: 5.4097\n",
            "Epoch 4/10\n",
            "478/478 [==============================] - 150s 314ms/step - loss: 5.3783\n",
            "Epoch 5/10\n",
            "478/478 [==============================] - 152s 317ms/step - loss: 5.3587\n",
            "Epoch 6/10\n",
            "478/478 [==============================] - 151s 315ms/step - loss: 5.3478\n",
            "Epoch 7/10\n",
            "478/478 [==============================] - 151s 315ms/step - loss: 5.3429\n",
            "Epoch 8/10\n",
            "478/478 [==============================] - 150s 313ms/step - loss: 5.3387\n",
            "Epoch 9/10\n",
            "478/478 [==============================] - 150s 313ms/step - loss: 5.3468\n",
            "Epoch 10/10\n",
            "478/478 [==============================] - 150s 314ms/step - loss: 5.3653\n"
          ],
          "name": "stdout"
        },
        {
          "output_type": "stream",
          "text": [
            "WARNING:absl:Found untraced functions such as lstm_cell_2_layer_call_fn, lstm_cell_2_layer_call_and_return_conditional_losses, lstm_cell_3_layer_call_fn, lstm_cell_3_layer_call_and_return_conditional_losses, lstm_cell_4_layer_call_fn while saving (showing 5 of 15). These functions will not be directly callable after loading.\n",
            "WARNING:absl:Found untraced functions such as lstm_cell_2_layer_call_fn, lstm_cell_2_layer_call_and_return_conditional_losses, lstm_cell_3_layer_call_fn, lstm_cell_3_layer_call_and_return_conditional_losses, lstm_cell_4_layer_call_fn while saving (showing 5 of 15). These functions will not be directly callable after loading.\n"
          ],
          "name": "stderr"
        },
        {
          "output_type": "stream",
          "text": [
            "INFO:tensorflow:Assets written to: /content/drive/MyDrive/finally_final/mdl_4/20/model/assets\n"
          ],
          "name": "stdout"
        },
        {
          "output_type": "stream",
          "text": [
            "INFO:tensorflow:Assets written to: /content/drive/MyDrive/finally_final/mdl_4/20/model/assets\n"
          ],
          "name": "stderr"
        },
        {
          "output_type": "stream",
          "text": [
            "Epoch 1/10\n",
            "478/478 [==============================] - 153s 319ms/step - loss: 5.3812\n",
            "Epoch 2/10\n",
            "478/478 [==============================] - 152s 318ms/step - loss: 5.4243\n",
            "Epoch 3/10\n",
            "478/478 [==============================] - 152s 318ms/step - loss: 5.3783\n",
            "Epoch 4/10\n",
            "478/478 [==============================] - 152s 318ms/step - loss: 5.3073\n",
            "Epoch 5/10\n",
            "478/478 [==============================] - 152s 318ms/step - loss: 5.3101\n",
            "Epoch 6/10\n",
            "478/478 [==============================] - 152s 317ms/step - loss: 5.3123\n",
            "Epoch 7/10\n",
            "478/478 [==============================] - 151s 315ms/step - loss: 5.3286\n",
            "Epoch 8/10\n",
            "478/478 [==============================] - 151s 317ms/step - loss: 5.3335\n",
            "Epoch 9/10\n",
            "478/478 [==============================] - 154s 322ms/step - loss: 5.3625\n",
            "Epoch 10/10\n",
            "478/478 [==============================] - 151s 315ms/step - loss: 5.4268\n"
          ],
          "name": "stdout"
        },
        {
          "output_type": "stream",
          "text": [
            "WARNING:absl:Found untraced functions such as lstm_cell_2_layer_call_fn, lstm_cell_2_layer_call_and_return_conditional_losses, lstm_cell_3_layer_call_fn, lstm_cell_3_layer_call_and_return_conditional_losses, lstm_cell_4_layer_call_fn while saving (showing 5 of 15). These functions will not be directly callable after loading.\n",
            "WARNING:absl:Found untraced functions such as lstm_cell_2_layer_call_fn, lstm_cell_2_layer_call_and_return_conditional_losses, lstm_cell_3_layer_call_fn, lstm_cell_3_layer_call_and_return_conditional_losses, lstm_cell_4_layer_call_fn while saving (showing 5 of 15). These functions will not be directly callable after loading.\n"
          ],
          "name": "stderr"
        },
        {
          "output_type": "stream",
          "text": [
            "INFO:tensorflow:Assets written to: /content/drive/MyDrive/finally_final/mdl_4/30/model/assets\n"
          ],
          "name": "stdout"
        },
        {
          "output_type": "stream",
          "text": [
            "INFO:tensorflow:Assets written to: /content/drive/MyDrive/finally_final/mdl_4/30/model/assets\n"
          ],
          "name": "stderr"
        },
        {
          "output_type": "stream",
          "text": [
            "Epoch 1/10\n",
            "478/478 [==============================] - 152s 317ms/step - loss: 5.5006\n",
            "Epoch 2/10\n",
            "478/478 [==============================] - 151s 316ms/step - loss: 5.5810\n",
            "Epoch 3/10\n",
            "478/478 [==============================] - 151s 317ms/step - loss: 5.6660\n",
            "Epoch 4/10\n",
            "478/478 [==============================] - 151s 316ms/step - loss: 5.7179\n",
            "Epoch 5/10\n",
            "478/478 [==============================] - 150s 314ms/step - loss: 5.7489\n",
            "Epoch 6/10\n",
            "478/478 [==============================] - 150s 313ms/step - loss: 5.6431\n",
            "Epoch 7/10\n",
            "478/478 [==============================] - 151s 315ms/step - loss: 5.6025\n",
            "Epoch 8/10\n",
            "478/478 [==============================] - 151s 315ms/step - loss: 5.5616\n",
            "Epoch 9/10\n",
            "478/478 [==============================] - 151s 316ms/step - loss: 5.5263\n",
            "Epoch 10/10\n",
            "332/478 [===================>..........] - ETA: 46s - loss: 5.5026"
          ],
          "name": "stdout"
        }
      ]
    },
    {
      "cell_type": "code",
      "metadata": {
        "colab": {
          "base_uri": "https://localhost:8080/",
          "height": 295
        },
        "id": "TKPIWrYulFBQ",
        "outputId": "be8e9c91-885d-4a65-b1f3-08b6d1458366"
      },
      "source": [
        "\n",
        "loss_val = [8.7381,6.7367,6.3572,6.1066,5.9032,5.7534,5.6750,5.5681,5.4989,5.4625,5.3812,5.4243,5.3783,5.3073,5.3101,5.3123,5.3286,5.3335,5.3625,5.5006,5.5006,5.5810,5.6660,5.7179,5.7489,5.6431,5.6025,5.5616,5.5263]\n",
        "plt.plot(loss_val)\n",
        "plt.title('model loss')\n",
        "plt.ylabel('loss')\n",
        "plt.xlabel('epoch')\n",
        "plt.legend(['train'], loc='upper left')\n",
        "plt.show()"
      ],
      "execution_count": 5,
      "outputs": [
        {
          "output_type": "display_data",
          "data": {
            "image/png": "[encoded data removed]",
            "text/plain": [
              "<Figure size 432x288 with 1 Axes>"
            ]
          },
          "metadata": {
            "tags": [],
            "needs_background": "light"
          }
        }
      ]
    }
  ]
}